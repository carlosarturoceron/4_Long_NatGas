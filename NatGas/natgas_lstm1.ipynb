{
 "cells": [
  {
   "attachments": {},
   "cell_type": "markdown",
   "metadata": {},
   "source": [
    "## Household Power Consumption"
   ]
  },
  {
   "attachments": {},
   "cell_type": "markdown",
   "metadata": {},
   "source": [
    "Power outage accidents will cause huge economic loss to the social economy. Therefore, it is very important to predict power consumption.\n",
    "\n",
    "Given the rise of smart electricity meters and the wide adoption of electricity generation technology like solar panels, there is a wealth of electricity usage data available."
   ]
  },
  {
   "attachments": {},
   "cell_type": "markdown",
   "metadata": {},
   "source": [
    "### Data Description\n",
    "---\n",
    "\n",
    "It is a multivariate series comprised of seven variables\n",
    "\n",
    "* global_active_power: The total active power consumed by the household (kilowatts).\n",
    "\n",
    "* global_reactive_power: The total reactive power consumed by the household (kilowatts).\n",
    "\n",
    "* voltage: Average voltage (volts).\n",
    "\n",
    "* global_intensity: Average current intensity (amps).\n",
    "\n",
    "* sub_metering_1: Active energy for kitchen (watt-hours of active energy).\n",
    "\n",
    "* sub_metering_2: Active energy for laundry (watt-hours of active energy).\n",
    "\n",
    "* sub_metering_3: Active energy for climate control systems (watt-hours of active energy).\n",
    "\n",
    "This data represents a multivariate time series of power-related variables that in turn could be used to model and even forecast future electricity consumption"
   ]
  },
  {
   "attachments": {},
   "cell_type": "markdown",
   "metadata": {},
   "source": [
    "### Import the Necessary Libraries"
   ]
  },
  {
   "cell_type": "code",
   "execution_count": 24,
   "metadata": {},
   "outputs": [],
   "source": [
    "# Data Manipulation\n",
    "import numpy as np\n",
    "from numpy import nan\n",
    "import pandas as pd\n",
    "\n",
    "# Data Visualization\n",
    "import matplotlib.pyplot as plt\n",
    "\n",
    "# Tensorflow\n",
    "import tensorflow as tf\n",
    "from tensorflow.keras import Sequential\n",
    "from tensorflow.keras.layers import LSTM, Dense\n",
    "\n",
    "# Model performance evaluation\n",
    "from sklearn.metrics import mean_squared_error\n",
    "\n",
    "# Scaling\n",
    "from sklearn.preprocessing import MinMaxScaler"
   ]
  },
  {
   "cell_type": "code",
   "execution_count": 25,
   "metadata": {},
   "outputs": [],
   "source": [
    "# fix random seed for reproducibility\n",
    "tf.random.set_seed(7)"
   ]
  },
  {
   "attachments": {},
   "cell_type": "markdown",
   "metadata": {},
   "source": [
    "### Import the Data"
   ]
  },
  {
   "cell_type": "code",
   "execution_count": 26,
   "metadata": {},
   "outputs": [],
   "source": [
    "#Reading the dataset\n",
    "data = pd.read_excel(\"RNGC1d.xls\", sheet_name=\"Data 1\", skiprows=2, usecols=[1])\n",
    "data.columns\n",
    "data = data.rename(columns={data.columns[0]:\"price\"})"
   ]
  },
  {
   "cell_type": "code",
   "execution_count": 27,
   "metadata": {},
   "outputs": [
    {
     "data": {
      "text/html": [
       "<div>\n",
       "<style scoped>\n",
       "    .dataframe tbody tr th:only-of-type {\n",
       "        vertical-align: middle;\n",
       "    }\n",
       "\n",
       "    .dataframe tbody tr th {\n",
       "        vertical-align: top;\n",
       "    }\n",
       "\n",
       "    .dataframe thead th {\n",
       "        text-align: right;\n",
       "    }\n",
       "</style>\n",
       "<table border=\"1\" class=\"dataframe\">\n",
       "  <thead>\n",
       "    <tr style=\"text-align: right;\">\n",
       "      <th></th>\n",
       "      <th>price</th>\n",
       "    </tr>\n",
       "  </thead>\n",
       "  <tbody>\n",
       "    <tr>\n",
       "      <th>0</th>\n",
       "      <td>2.194</td>\n",
       "    </tr>\n",
       "    <tr>\n",
       "      <th>1</th>\n",
       "      <td>2.268</td>\n",
       "    </tr>\n",
       "    <tr>\n",
       "      <th>2</th>\n",
       "      <td>2.360</td>\n",
       "    </tr>\n",
       "    <tr>\n",
       "      <th>3</th>\n",
       "      <td>2.318</td>\n",
       "    </tr>\n",
       "    <tr>\n",
       "      <th>4</th>\n",
       "      <td>2.252</td>\n",
       "    </tr>\n",
       "  </tbody>\n",
       "</table>\n",
       "</div>"
      ],
      "text/plain": [
       "   price\n",
       "0  2.194\n",
       "1  2.268\n",
       "2  2.360\n",
       "3  2.318\n",
       "4  2.252"
      ]
     },
     "execution_count": 27,
     "metadata": {},
     "output_type": "execute_result"
    }
   ],
   "source": [
    "data.head() # see the top rows"
   ]
  },
  {
   "cell_type": "code",
   "execution_count": 28,
   "metadata": {},
   "outputs": [
    {
     "data": {
      "text/html": [
       "<div>\n",
       "<style scoped>\n",
       "    .dataframe tbody tr th:only-of-type {\n",
       "        vertical-align: middle;\n",
       "    }\n",
       "\n",
       "    .dataframe tbody tr th {\n",
       "        vertical-align: top;\n",
       "    }\n",
       "\n",
       "    .dataframe thead th {\n",
       "        text-align: right;\n",
       "    }\n",
       "</style>\n",
       "<table border=\"1\" class=\"dataframe\">\n",
       "  <thead>\n",
       "    <tr style=\"text-align: right;\">\n",
       "      <th></th>\n",
       "      <th>price</th>\n",
       "    </tr>\n",
       "  </thead>\n",
       "  <tbody>\n",
       "    <tr>\n",
       "      <th>0</th>\n",
       "      <td>2.194</td>\n",
       "    </tr>\n",
       "    <tr>\n",
       "      <th>1</th>\n",
       "      <td>2.268</td>\n",
       "    </tr>\n",
       "    <tr>\n",
       "      <th>2</th>\n",
       "      <td>2.360</td>\n",
       "    </tr>\n",
       "    <tr>\n",
       "      <th>3</th>\n",
       "      <td>2.318</td>\n",
       "    </tr>\n",
       "    <tr>\n",
       "      <th>4</th>\n",
       "      <td>2.252</td>\n",
       "    </tr>\n",
       "    <tr>\n",
       "      <th>...</th>\n",
       "      <td>...</td>\n",
       "    </tr>\n",
       "    <tr>\n",
       "      <th>7325</th>\n",
       "      <td>2.439</td>\n",
       "    </tr>\n",
       "    <tr>\n",
       "      <th>7326</th>\n",
       "      <td>2.514</td>\n",
       "    </tr>\n",
       "    <tr>\n",
       "      <th>7327</th>\n",
       "      <td>2.338</td>\n",
       "    </tr>\n",
       "    <tr>\n",
       "      <th>7328</th>\n",
       "      <td>2.223</td>\n",
       "    </tr>\n",
       "    <tr>\n",
       "      <th>7329</th>\n",
       "      <td>2.348</td>\n",
       "    </tr>\n",
       "  </tbody>\n",
       "</table>\n",
       "<p>7330 rows × 1 columns</p>\n",
       "</div>"
      ],
      "text/plain": [
       "      price\n",
       "0     2.194\n",
       "1     2.268\n",
       "2     2.360\n",
       "3     2.318\n",
       "4     2.252\n",
       "...     ...\n",
       "7325  2.439\n",
       "7326  2.514\n",
       "7327  2.338\n",
       "7328  2.223\n",
       "7329  2.348\n",
       "\n",
       "[7330 rows x 1 columns]"
      ]
     },
     "execution_count": 28,
     "metadata": {},
     "output_type": "execute_result"
    }
   ],
   "source": [
    "# load the dataset\n",
    "dataset = data.copy()\n",
    "dataset"
   ]
  },
  {
   "attachments": {},
   "cell_type": "markdown",
   "metadata": {},
   "source": [
    "Observation :\n",
    "1. From the above diagram we can say that power consumption in the month of Nov, Dec, Jan, Feb, Mar is more as there is a long tail as compare to other months.\n",
    "\n",
    "2. It also shows that the during the winter seasons, the heating systems are used and not in summer.\n",
    "\n",
    "3. The above graph is highly concentrated on 0.3W and 1.3W."
   ]
  },
  {
   "attachments": {},
   "cell_type": "markdown",
   "metadata": {},
   "source": [
    "### Active Power Uses Prediction\n",
    "---\n",
    "\n",
    "What can we predict\n",
    "\n",
    "* Forecast hourly consumption for the next day.\n",
    "* Forecast daily consumption for the next week.\n",
    "* Forecast daily consumption for the next month.\n",
    "* Forecast monthly consumption for the next year."
   ]
  },
  {
   "attachments": {},
   "cell_type": "markdown",
   "metadata": {},
   "source": [
    "#### Modeling Methods\n",
    "---\n",
    "There are many modeling methods and few of those are as follows\n",
    "\n",
    "* Naive Methods -> Naive methods would include methods that make very simple, but often very effective assumptions.\n",
    "\n",
    "* Classical Linear Methods -> Classical linear methods include techniques are very effective for univariate time series forecasting\n",
    "\n",
    "* Machine Learning Methods -> Machine learning methods require that the problem be framed as a supervised learning problem.\n",
    "    * K-nearest neighbors.\n",
    "    * SVM\n",
    "    * Decision trees\n",
    "    * Random forest\n",
    "    * Gradient boosting machines\n",
    "    \n",
    "* Deep Learning Methods -> combinations of CNN LSTM and ConvLSTM, have proven effective on time series classification tasks\n",
    "    * CNN\n",
    "    * LSTM\n",
    "    * CNN - LSTM"
   ]
  },
  {
   "attachments": {},
   "cell_type": "markdown",
   "metadata": {},
   "source": [
    "#### Problem Framing:\n",
    "Given recent power consumption, what is the expected power consumption for the week ahead?\n",
    "This requires that a predictive model forecast the total active power for each day over the next seven days\n",
    "\n",
    "A model of this type could be helpful within the household in planning expenditures. It could also be helpful on the supply side for planning electricity demand for a specific household.\n",
    "\n",
    "* Input -> Predict\n",
    "\n",
    "* [Week1] -> Week2\n",
    " \n",
    "* [Week2] -> Week3\n",
    "\n",
    "* [Week3] -> Week4"
   ]
  },
  {
   "attachments": {},
   "cell_type": "markdown",
   "metadata": {},
   "source": [
    "### Modeling"
   ]
  },
  {
   "cell_type": "code",
   "execution_count": 29,
   "metadata": {},
   "outputs": [
    {
     "data": {
      "text/html": [
       "<div>\n",
       "<style scoped>\n",
       "    .dataframe tbody tr th:only-of-type {\n",
       "        vertical-align: middle;\n",
       "    }\n",
       "\n",
       "    .dataframe tbody tr th {\n",
       "        vertical-align: top;\n",
       "    }\n",
       "\n",
       "    .dataframe thead th {\n",
       "        text-align: right;\n",
       "    }\n",
       "</style>\n",
       "<table border=\"1\" class=\"dataframe\">\n",
       "  <thead>\n",
       "    <tr style=\"text-align: right;\">\n",
       "      <th></th>\n",
       "      <th>price</th>\n",
       "    </tr>\n",
       "  </thead>\n",
       "  <tbody>\n",
       "    <tr>\n",
       "      <th>0</th>\n",
       "      <td>2.194</td>\n",
       "    </tr>\n",
       "    <tr>\n",
       "      <th>1</th>\n",
       "      <td>2.268</td>\n",
       "    </tr>\n",
       "    <tr>\n",
       "      <th>2</th>\n",
       "      <td>2.360</td>\n",
       "    </tr>\n",
       "    <tr>\n",
       "      <th>3</th>\n",
       "      <td>2.318</td>\n",
       "    </tr>\n",
       "    <tr>\n",
       "      <th>4</th>\n",
       "      <td>2.252</td>\n",
       "    </tr>\n",
       "  </tbody>\n",
       "</table>\n",
       "</div>"
      ],
      "text/plain": [
       "   price\n",
       "0  2.194\n",
       "1  2.268\n",
       "2  2.360\n",
       "3  2.318\n",
       "4  2.252"
      ]
     },
     "execution_count": 29,
     "metadata": {},
     "output_type": "execute_result"
    }
   ],
   "source": [
    "dataset.head()"
   ]
  },
  {
   "cell_type": "code",
   "execution_count": 30,
   "metadata": {},
   "outputs": [
    {
     "data": {
      "text/html": [
       "<div>\n",
       "<style scoped>\n",
       "    .dataframe tbody tr th:only-of-type {\n",
       "        vertical-align: middle;\n",
       "    }\n",
       "\n",
       "    .dataframe tbody tr th {\n",
       "        vertical-align: top;\n",
       "    }\n",
       "\n",
       "    .dataframe thead th {\n",
       "        text-align: right;\n",
       "    }\n",
       "</style>\n",
       "<table border=\"1\" class=\"dataframe\">\n",
       "  <thead>\n",
       "    <tr style=\"text-align: right;\">\n",
       "      <th></th>\n",
       "      <th>price</th>\n",
       "    </tr>\n",
       "  </thead>\n",
       "  <tbody>\n",
       "    <tr>\n",
       "      <th>7325</th>\n",
       "      <td>2.439</td>\n",
       "    </tr>\n",
       "    <tr>\n",
       "      <th>7326</th>\n",
       "      <td>2.514</td>\n",
       "    </tr>\n",
       "    <tr>\n",
       "      <th>7327</th>\n",
       "      <td>2.338</td>\n",
       "    </tr>\n",
       "    <tr>\n",
       "      <th>7328</th>\n",
       "      <td>2.223</td>\n",
       "    </tr>\n",
       "    <tr>\n",
       "      <th>7329</th>\n",
       "      <td>2.348</td>\n",
       "    </tr>\n",
       "  </tbody>\n",
       "</table>\n",
       "</div>"
      ],
      "text/plain": [
       "      price\n",
       "7325  2.439\n",
       "7326  2.514\n",
       "7327  2.338\n",
       "7328  2.223\n",
       "7329  2.348"
      ]
     },
     "execution_count": 30,
     "metadata": {},
     "output_type": "execute_result"
    }
   ],
   "source": [
    "dataset.tail()"
   ]
  },
  {
   "cell_type": "code",
   "execution_count": 31,
   "metadata": {},
   "outputs": [
    {
     "data": {
      "text/html": [
       "<div>\n",
       "<style scoped>\n",
       "    .dataframe tbody tr th:only-of-type {\n",
       "        vertical-align: middle;\n",
       "    }\n",
       "\n",
       "    .dataframe tbody tr th {\n",
       "        vertical-align: top;\n",
       "    }\n",
       "\n",
       "    .dataframe thead th {\n",
       "        text-align: right;\n",
       "    }\n",
       "</style>\n",
       "<table border=\"1\" class=\"dataframe\">\n",
       "  <thead>\n",
       "    <tr style=\"text-align: right;\">\n",
       "      <th></th>\n",
       "      <th>price</th>\n",
       "    </tr>\n",
       "  </thead>\n",
       "  <tbody>\n",
       "    <tr>\n",
       "      <th>0</th>\n",
       "      <td>2.194</td>\n",
       "    </tr>\n",
       "    <tr>\n",
       "      <th>1</th>\n",
       "      <td>2.268</td>\n",
       "    </tr>\n",
       "    <tr>\n",
       "      <th>2</th>\n",
       "      <td>2.360</td>\n",
       "    </tr>\n",
       "    <tr>\n",
       "      <th>3</th>\n",
       "      <td>2.318</td>\n",
       "    </tr>\n",
       "    <tr>\n",
       "      <th>4</th>\n",
       "      <td>2.252</td>\n",
       "    </tr>\n",
       "  </tbody>\n",
       "</table>\n",
       "</div>"
      ],
      "text/plain": [
       "   price\n",
       "0  2.194\n",
       "1  2.268\n",
       "2  2.360\n",
       "3  2.318\n",
       "4  2.252"
      ]
     },
     "execution_count": 31,
     "metadata": {},
     "output_type": "execute_result"
    }
   ],
   "source": [
    "dataset.head()"
   ]
  },
  {
   "cell_type": "code",
   "execution_count": 32,
   "metadata": {},
   "outputs": [
    {
     "data": {
      "text/plain": [
       "(7330, 1)"
      ]
     },
     "execution_count": 32,
     "metadata": {},
     "output_type": "execute_result"
    }
   ],
   "source": [
    "dataset.shape"
   ]
  },
  {
   "cell_type": "code",
   "execution_count": 33,
   "metadata": {},
   "outputs": [
    {
     "data": {
      "text/html": [
       "<div>\n",
       "<style scoped>\n",
       "    .dataframe tbody tr th:only-of-type {\n",
       "        vertical-align: middle;\n",
       "    }\n",
       "\n",
       "    .dataframe tbody tr th {\n",
       "        vertical-align: top;\n",
       "    }\n",
       "\n",
       "    .dataframe thead th {\n",
       "        text-align: right;\n",
       "    }\n",
       "</style>\n",
       "<table border=\"1\" class=\"dataframe\">\n",
       "  <thead>\n",
       "    <tr style=\"text-align: right;\">\n",
       "      <th></th>\n",
       "      <th>price</th>\n",
       "    </tr>\n",
       "  </thead>\n",
       "  <tbody>\n",
       "    <tr>\n",
       "      <th>0</th>\n",
       "      <td>2.194</td>\n",
       "    </tr>\n",
       "    <tr>\n",
       "      <th>1</th>\n",
       "      <td>2.268</td>\n",
       "    </tr>\n",
       "    <tr>\n",
       "      <th>2</th>\n",
       "      <td>2.360</td>\n",
       "    </tr>\n",
       "    <tr>\n",
       "      <th>3</th>\n",
       "      <td>2.318</td>\n",
       "    </tr>\n",
       "    <tr>\n",
       "      <th>4</th>\n",
       "      <td>2.252</td>\n",
       "    </tr>\n",
       "    <tr>\n",
       "      <th>...</th>\n",
       "      <td>...</td>\n",
       "    </tr>\n",
       "    <tr>\n",
       "      <th>7325</th>\n",
       "      <td>2.439</td>\n",
       "    </tr>\n",
       "    <tr>\n",
       "      <th>7326</th>\n",
       "      <td>2.514</td>\n",
       "    </tr>\n",
       "    <tr>\n",
       "      <th>7327</th>\n",
       "      <td>2.338</td>\n",
       "    </tr>\n",
       "    <tr>\n",
       "      <th>7328</th>\n",
       "      <td>2.223</td>\n",
       "    </tr>\n",
       "    <tr>\n",
       "      <th>7329</th>\n",
       "      <td>2.348</td>\n",
       "    </tr>\n",
       "  </tbody>\n",
       "</table>\n",
       "<p>7330 rows × 1 columns</p>\n",
       "</div>"
      ],
      "text/plain": [
       "      price\n",
       "0     2.194\n",
       "1     2.268\n",
       "2     2.360\n",
       "3     2.318\n",
       "4     2.252\n",
       "...     ...\n",
       "7325  2.439\n",
       "7326  2.514\n",
       "7327  2.338\n",
       "7328  2.223\n",
       "7329  2.348\n",
       "\n",
       "[7330 rows x 1 columns]"
      ]
     },
     "execution_count": 33,
     "metadata": {},
     "output_type": "execute_result"
    }
   ],
   "source": [
    "dataset"
   ]
  },
  {
   "cell_type": "code",
   "execution_count": 34,
   "metadata": {},
   "outputs": [
    {
     "name": "stdout",
     "output_type": "stream",
     "text": [
      "4911 2419\n"
     ]
    }
   ],
   "source": [
    "# split into train and test sets\n",
    "train_size = int(len(dataset) * 0.67)\n",
    "test_size = len(dataset) - train_size\n",
    "data_train, data_test = dataset.iloc[0:train_size,:][\"price\"], dataset.iloc[train_size:len(dataset),:][\"price\"]\n",
    "print(len(data_train), len(data_test))"
   ]
  },
  {
   "cell_type": "code",
   "execution_count": 35,
   "metadata": {},
   "outputs": [
    {
     "data": {
      "text/plain": [
       "0       2.194\n",
       "1       2.268\n",
       "2       2.360\n",
       "3       2.318\n",
       "4       2.252\n",
       "        ...  \n",
       "4906    3.230\n",
       "4907    3.310\n",
       "4908    3.285\n",
       "4909    3.342\n",
       "4910    3.419\n",
       "Name: price, Length: 4911, dtype: float64"
      ]
     },
     "execution_count": 35,
     "metadata": {},
     "output_type": "execute_result"
    }
   ],
   "source": [
    "data_train"
   ]
  },
  {
   "cell_type": "code",
   "execution_count": 36,
   "metadata": {},
   "outputs": [
    {
     "data": {
      "text/plain": [
       "4911    3.368\n",
       "4912    3.463\n",
       "4913    3.444\n",
       "4914    3.460\n",
       "4915    3.545\n",
       "        ...  \n",
       "7325    2.439\n",
       "7326    2.514\n",
       "7327    2.338\n",
       "7328    2.223\n",
       "7329    2.348\n",
       "Name: price, Length: 2419, dtype: float64"
      ]
     },
     "execution_count": 36,
     "metadata": {},
     "output_type": "execute_result"
    }
   ],
   "source": [
    "data_test"
   ]
  },
  {
   "attachments": {},
   "cell_type": "markdown",
   "metadata": {},
   "source": [
    "### Preparing the Data"
   ]
  },
  {
   "cell_type": "code",
   "execution_count": 37,
   "metadata": {},
   "outputs": [
    {
     "data": {
      "text/plain": [
       "0     2.194\n",
       "1     2.268\n",
       "2     2.360\n",
       "3     2.318\n",
       "4     2.252\n",
       "5     2.250\n",
       "6     2.305\n",
       "7     2.470\n",
       "8     2.246\n",
       "9     2.359\n",
       "10    2.417\n",
       "11    2.528\n",
       "12    2.554\n",
       "13    2.639\n",
       "Name: price, dtype: float64"
      ]
     },
     "execution_count": 37,
     "metadata": {},
     "output_type": "execute_result"
    }
   ],
   "source": [
    "#training data\n",
    "\n",
    "data_train.head(14)"
   ]
  },
  {
   "cell_type": "code",
   "execution_count": 38,
   "metadata": {},
   "outputs": [],
   "source": [
    "#converting the data into numpy array\n",
    "\n",
    "data_train = np.array(data_train)"
   ]
  },
  {
   "cell_type": "code",
   "execution_count": 39,
   "metadata": {},
   "outputs": [
    {
     "data": {
      "text/plain": [
       "array([2.194, 2.268, 2.36 , ..., 3.285, 3.342, 3.419])"
      ]
     },
     "execution_count": 39,
     "metadata": {},
     "output_type": "execute_result"
    }
   ],
   "source": [
    "data_train"
   ]
  },
  {
   "cell_type": "code",
   "execution_count": 41,
   "metadata": {},
   "outputs": [],
   "source": [
    "# we are splitting the data weekly wise(7days)\n",
    "\n",
    "X_train, y_train = [], []\n",
    "\n",
    "for i in range(7, len(data_train)-7):\n",
    "    X_train.append(data_train[i-7:i])\n",
    "    y_train.append(data_train[i:i+7])"
   ]
  },
  {
   "cell_type": "code",
   "execution_count": 43,
   "metadata": {},
   "outputs": [],
   "source": [
    "#converting list to numpy array\n",
    "\n",
    "X_train, y_train = np.array(X_train), np.array(y_train)"
   ]
  },
  {
   "cell_type": "code",
   "execution_count": 44,
   "metadata": {},
   "outputs": [
    {
     "data": {
      "text/plain": [
       "((4897, 7), (4897, 7))"
      ]
     },
     "execution_count": 44,
     "metadata": {},
     "output_type": "execute_result"
    }
   ],
   "source": [
    "#shape of train and test dataset\n",
    "\n",
    "X_train.shape, y_train.shape"
   ]
  },
  {
   "cell_type": "code",
   "execution_count": 45,
   "metadata": {},
   "outputs": [
    {
     "data": {
      "text/html": [
       "<div>\n",
       "<style scoped>\n",
       "    .dataframe tbody tr th:only-of-type {\n",
       "        vertical-align: middle;\n",
       "    }\n",
       "\n",
       "    .dataframe tbody tr th {\n",
       "        vertical-align: top;\n",
       "    }\n",
       "\n",
       "    .dataframe thead th {\n",
       "        text-align: right;\n",
       "    }\n",
       "</style>\n",
       "<table border=\"1\" class=\"dataframe\">\n",
       "  <thead>\n",
       "    <tr style=\"text-align: right;\">\n",
       "      <th></th>\n",
       "      <th>0</th>\n",
       "      <th>1</th>\n",
       "      <th>2</th>\n",
       "      <th>3</th>\n",
       "      <th>4</th>\n",
       "      <th>5</th>\n",
       "      <th>6</th>\n",
       "    </tr>\n",
       "  </thead>\n",
       "  <tbody>\n",
       "    <tr>\n",
       "      <th>0</th>\n",
       "      <td>2.470</td>\n",
       "      <td>2.246</td>\n",
       "      <td>2.359</td>\n",
       "      <td>2.417</td>\n",
       "      <td>2.528</td>\n",
       "      <td>2.554</td>\n",
       "      <td>2.639</td>\n",
       "    </tr>\n",
       "    <tr>\n",
       "      <th>1</th>\n",
       "      <td>2.246</td>\n",
       "      <td>2.359</td>\n",
       "      <td>2.417</td>\n",
       "      <td>2.528</td>\n",
       "      <td>2.554</td>\n",
       "      <td>2.639</td>\n",
       "      <td>2.585</td>\n",
       "    </tr>\n",
       "    <tr>\n",
       "      <th>2</th>\n",
       "      <td>2.359</td>\n",
       "      <td>2.417</td>\n",
       "      <td>2.528</td>\n",
       "      <td>2.554</td>\n",
       "      <td>2.639</td>\n",
       "      <td>2.585</td>\n",
       "      <td>2.383</td>\n",
       "    </tr>\n",
       "    <tr>\n",
       "      <th>3</th>\n",
       "      <td>2.417</td>\n",
       "      <td>2.528</td>\n",
       "      <td>2.554</td>\n",
       "      <td>2.639</td>\n",
       "      <td>2.585</td>\n",
       "      <td>2.383</td>\n",
       "      <td>2.369</td>\n",
       "    </tr>\n",
       "    <tr>\n",
       "      <th>4</th>\n",
       "      <td>2.528</td>\n",
       "      <td>2.554</td>\n",
       "      <td>2.639</td>\n",
       "      <td>2.585</td>\n",
       "      <td>2.383</td>\n",
       "      <td>2.369</td>\n",
       "      <td>2.347</td>\n",
       "    </tr>\n",
       "  </tbody>\n",
       "</table>\n",
       "</div>"
      ],
      "text/plain": [
       "       0      1      2      3      4      5      6\n",
       "0  2.470  2.246  2.359  2.417  2.528  2.554  2.639\n",
       "1  2.246  2.359  2.417  2.528  2.554  2.639  2.585\n",
       "2  2.359  2.417  2.528  2.554  2.639  2.585  2.383\n",
       "3  2.417  2.528  2.554  2.639  2.585  2.383  2.369\n",
       "4  2.528  2.554  2.639  2.585  2.383  2.369  2.347"
      ]
     },
     "execution_count": 45,
     "metadata": {},
     "output_type": "execute_result"
    }
   ],
   "source": [
    "#printing the ytrain value\n",
    "\n",
    "pd.DataFrame(y_train).head()"
   ]
  },
  {
   "cell_type": "code",
   "execution_count": 46,
   "metadata": {},
   "outputs": [],
   "source": [
    "#Normalising the dataset between 0 and 1\n",
    "\n",
    "x_scaler = MinMaxScaler()\n",
    "X_train = x_scaler.fit_transform(X_train)"
   ]
  },
  {
   "cell_type": "code",
   "execution_count": 47,
   "metadata": {},
   "outputs": [],
   "source": [
    "#Normalising the dataset\n",
    "\n",
    "y_scaler = MinMaxScaler()\n",
    "y_train = y_scaler.fit_transform(y_train)"
   ]
  },
  {
   "cell_type": "code",
   "execution_count": 48,
   "metadata": {},
   "outputs": [
    {
     "data": {
      "text/html": [
       "<div>\n",
       "<style scoped>\n",
       "    .dataframe tbody tr th:only-of-type {\n",
       "        vertical-align: middle;\n",
       "    }\n",
       "\n",
       "    .dataframe tbody tr th {\n",
       "        vertical-align: top;\n",
       "    }\n",
       "\n",
       "    .dataframe thead th {\n",
       "        text-align: right;\n",
       "    }\n",
       "</style>\n",
       "<table border=\"1\" class=\"dataframe\">\n",
       "  <thead>\n",
       "    <tr style=\"text-align: right;\">\n",
       "      <th></th>\n",
       "      <th>0</th>\n",
       "      <th>1</th>\n",
       "      <th>2</th>\n",
       "      <th>3</th>\n",
       "      <th>4</th>\n",
       "      <th>5</th>\n",
       "      <th>6</th>\n",
       "    </tr>\n",
       "  </thead>\n",
       "  <tbody>\n",
       "    <tr>\n",
       "      <th>0</th>\n",
       "      <td>0.061971</td>\n",
       "      <td>0.067236</td>\n",
       "      <td>0.073782</td>\n",
       "      <td>0.070793</td>\n",
       "      <td>0.066097</td>\n",
       "      <td>0.065955</td>\n",
       "      <td>0.069868</td>\n",
       "    </tr>\n",
       "    <tr>\n",
       "      <th>1</th>\n",
       "      <td>0.067236</td>\n",
       "      <td>0.073782</td>\n",
       "      <td>0.070793</td>\n",
       "      <td>0.066097</td>\n",
       "      <td>0.065955</td>\n",
       "      <td>0.069868</td>\n",
       "      <td>0.081608</td>\n",
       "    </tr>\n",
       "    <tr>\n",
       "      <th>2</th>\n",
       "      <td>0.073782</td>\n",
       "      <td>0.070793</td>\n",
       "      <td>0.066097</td>\n",
       "      <td>0.065955</td>\n",
       "      <td>0.069868</td>\n",
       "      <td>0.081608</td>\n",
       "      <td>0.065671</td>\n",
       "    </tr>\n",
       "    <tr>\n",
       "      <th>3</th>\n",
       "      <td>0.070793</td>\n",
       "      <td>0.066097</td>\n",
       "      <td>0.065955</td>\n",
       "      <td>0.069868</td>\n",
       "      <td>0.081608</td>\n",
       "      <td>0.065671</td>\n",
       "      <td>0.073710</td>\n",
       "    </tr>\n",
       "    <tr>\n",
       "      <th>4</th>\n",
       "      <td>0.066097</td>\n",
       "      <td>0.065955</td>\n",
       "      <td>0.069868</td>\n",
       "      <td>0.081608</td>\n",
       "      <td>0.065671</td>\n",
       "      <td>0.073710</td>\n",
       "      <td>0.077837</td>\n",
       "    </tr>\n",
       "  </tbody>\n",
       "</table>\n",
       "</div>"
      ],
      "text/plain": [
       "          0         1         2         3         4         5         6\n",
       "0  0.061971  0.067236  0.073782  0.070793  0.066097  0.065955  0.069868\n",
       "1  0.067236  0.073782  0.070793  0.066097  0.065955  0.069868  0.081608\n",
       "2  0.073782  0.070793  0.066097  0.065955  0.069868  0.081608  0.065671\n",
       "3  0.070793  0.066097  0.065955  0.069868  0.081608  0.065671  0.073710\n",
       "4  0.066097  0.065955  0.069868  0.081608  0.065671  0.073710  0.077837"
      ]
     },
     "execution_count": 48,
     "metadata": {},
     "output_type": "execute_result"
    }
   ],
   "source": [
    "pd.DataFrame(X_train).head()"
   ]
  },
  {
   "cell_type": "code",
   "execution_count": 67,
   "metadata": {},
   "outputs": [
    {
     "data": {
      "text/html": [
       "<div>\n",
       "<style scoped>\n",
       "    .dataframe tbody tr th:only-of-type {\n",
       "        vertical-align: middle;\n",
       "    }\n",
       "\n",
       "    .dataframe tbody tr th {\n",
       "        vertical-align: top;\n",
       "    }\n",
       "\n",
       "    .dataframe thead th {\n",
       "        text-align: right;\n",
       "    }\n",
       "</style>\n",
       "<table border=\"1\" class=\"dataframe\">\n",
       "  <thead>\n",
       "    <tr style=\"text-align: right;\">\n",
       "      <th></th>\n",
       "      <th>0</th>\n",
       "      <th>1</th>\n",
       "      <th>2</th>\n",
       "      <th>3</th>\n",
       "      <th>4</th>\n",
       "      <th>5</th>\n",
       "      <th>6</th>\n",
       "    </tr>\n",
       "  </thead>\n",
       "  <tbody>\n",
       "    <tr>\n",
       "      <th>0</th>\n",
       "      <td>0.081608</td>\n",
       "      <td>0.065671</td>\n",
       "      <td>0.073710</td>\n",
       "      <td>0.077837</td>\n",
       "      <td>0.085735</td>\n",
       "      <td>0.087584</td>\n",
       "      <td>0.093632</td>\n",
       "    </tr>\n",
       "    <tr>\n",
       "      <th>1</th>\n",
       "      <td>0.065671</td>\n",
       "      <td>0.073710</td>\n",
       "      <td>0.077837</td>\n",
       "      <td>0.085735</td>\n",
       "      <td>0.087584</td>\n",
       "      <td>0.093632</td>\n",
       "      <td>0.089790</td>\n",
       "    </tr>\n",
       "    <tr>\n",
       "      <th>2</th>\n",
       "      <td>0.073710</td>\n",
       "      <td>0.077837</td>\n",
       "      <td>0.085735</td>\n",
       "      <td>0.087584</td>\n",
       "      <td>0.093632</td>\n",
       "      <td>0.089790</td>\n",
       "      <td>0.075418</td>\n",
       "    </tr>\n",
       "    <tr>\n",
       "      <th>3</th>\n",
       "      <td>0.077837</td>\n",
       "      <td>0.085735</td>\n",
       "      <td>0.087584</td>\n",
       "      <td>0.093632</td>\n",
       "      <td>0.089790</td>\n",
       "      <td>0.075418</td>\n",
       "      <td>0.074422</td>\n",
       "    </tr>\n",
       "    <tr>\n",
       "      <th>4</th>\n",
       "      <td>0.085735</td>\n",
       "      <td>0.087584</td>\n",
       "      <td>0.093632</td>\n",
       "      <td>0.089790</td>\n",
       "      <td>0.075418</td>\n",
       "      <td>0.074422</td>\n",
       "      <td>0.072857</td>\n",
       "    </tr>\n",
       "    <tr>\n",
       "      <th>...</th>\n",
       "      <td>...</td>\n",
       "      <td>...</td>\n",
       "      <td>...</td>\n",
       "      <td>...</td>\n",
       "      <td>...</td>\n",
       "      <td>...</td>\n",
       "      <td>...</td>\n",
       "    </tr>\n",
       "    <tr>\n",
       "      <th>4892</th>\n",
       "      <td>0.151049</td>\n",
       "      <td>0.146852</td>\n",
       "      <td>0.144006</td>\n",
       "      <td>0.142014</td>\n",
       "      <td>0.141942</td>\n",
       "      <td>0.136891</td>\n",
       "      <td>0.140448</td>\n",
       "    </tr>\n",
       "    <tr>\n",
       "      <th>4893</th>\n",
       "      <td>0.146852</td>\n",
       "      <td>0.144006</td>\n",
       "      <td>0.142014</td>\n",
       "      <td>0.141942</td>\n",
       "      <td>0.136891</td>\n",
       "      <td>0.140448</td>\n",
       "      <td>0.135681</td>\n",
       "    </tr>\n",
       "    <tr>\n",
       "      <th>4894</th>\n",
       "      <td>0.144006</td>\n",
       "      <td>0.142014</td>\n",
       "      <td>0.141942</td>\n",
       "      <td>0.136891</td>\n",
       "      <td>0.140448</td>\n",
       "      <td>0.135681</td>\n",
       "      <td>0.141373</td>\n",
       "    </tr>\n",
       "    <tr>\n",
       "      <th>4895</th>\n",
       "      <td>0.142014</td>\n",
       "      <td>0.141942</td>\n",
       "      <td>0.136891</td>\n",
       "      <td>0.140448</td>\n",
       "      <td>0.135681</td>\n",
       "      <td>0.141373</td>\n",
       "      <td>0.139594</td>\n",
       "    </tr>\n",
       "    <tr>\n",
       "      <th>4896</th>\n",
       "      <td>0.141942</td>\n",
       "      <td>0.136891</td>\n",
       "      <td>0.140448</td>\n",
       "      <td>0.135681</td>\n",
       "      <td>0.141373</td>\n",
       "      <td>0.139594</td>\n",
       "      <td>0.143650</td>\n",
       "    </tr>\n",
       "  </tbody>\n",
       "</table>\n",
       "<p>4897 rows × 7 columns</p>\n",
       "</div>"
      ],
      "text/plain": [
       "             0         1         2         3         4         5         6\n",
       "0     0.081608  0.065671  0.073710  0.077837  0.085735  0.087584  0.093632\n",
       "1     0.065671  0.073710  0.077837  0.085735  0.087584  0.093632  0.089790\n",
       "2     0.073710  0.077837  0.085735  0.087584  0.093632  0.089790  0.075418\n",
       "3     0.077837  0.085735  0.087584  0.093632  0.089790  0.075418  0.074422\n",
       "4     0.085735  0.087584  0.093632  0.089790  0.075418  0.074422  0.072857\n",
       "...        ...       ...       ...       ...       ...       ...       ...\n",
       "4892  0.151049  0.146852  0.144006  0.142014  0.141942  0.136891  0.140448\n",
       "4893  0.146852  0.144006  0.142014  0.141942  0.136891  0.140448  0.135681\n",
       "4894  0.144006  0.142014  0.141942  0.136891  0.140448  0.135681  0.141373\n",
       "4895  0.142014  0.141942  0.136891  0.140448  0.135681  0.141373  0.139594\n",
       "4896  0.141942  0.136891  0.140448  0.135681  0.141373  0.139594  0.143650\n",
       "\n",
       "[4897 rows x 7 columns]"
      ]
     },
     "execution_count": 67,
     "metadata": {},
     "output_type": "execute_result"
    }
   ],
   "source": [
    "pd.DataFrame(y_train)"
   ]
  },
  {
   "cell_type": "code",
   "execution_count": 68,
   "metadata": {},
   "outputs": [],
   "source": [
    "y_train = y_train.reshape(4897, 7, 1)"
   ]
  },
  {
   "cell_type": "code",
   "execution_count": 50,
   "metadata": {},
   "outputs": [],
   "source": [
    "#converting to 3 dimension\n",
    "\n",
    "X_train = X_train.reshape(4897, 7, 1)"
   ]
  },
  {
   "cell_type": "code",
   "execution_count": 51,
   "metadata": {},
   "outputs": [
    {
     "data": {
      "text/plain": [
       "(4897, 7, 1)"
      ]
     },
     "execution_count": 51,
     "metadata": {},
     "output_type": "execute_result"
    }
   ],
   "source": [
    "X_train.shape"
   ]
  },
  {
   "attachments": {},
   "cell_type": "markdown",
   "metadata": {},
   "source": [
    "### Build LSTM Model"
   ]
  },
  {
   "cell_type": "code",
   "execution_count": 53,
   "metadata": {},
   "outputs": [],
   "source": [
    "#building sequential model using Keras\n",
    "\n",
    "reg = Sequential()\n",
    "reg.add(LSTM(units = 5, activation = 'relu', input_shape=(7,1)))\n",
    "reg.add(Dense(7))"
   ]
  },
  {
   "cell_type": "code",
   "execution_count": 57,
   "metadata": {},
   "outputs": [],
   "source": [
    "#here we have considered loss as mean square error and optimizer as adam\n",
    "\n",
    "reg.compile(loss='mean_squared_error', optimizer='adam')"
   ]
  },
  {
   "cell_type": "code",
   "execution_count": 58,
   "metadata": {},
   "outputs": [
    {
     "name": "stdout",
     "output_type": "stream",
     "text": [
      "Epoch 1/50\n",
      "154/154 - 2s - loss: 0.0524 - 2s/epoch - 11ms/step\n",
      "Epoch 2/50\n",
      "154/154 - 0s - loss: 0.0199 - 348ms/epoch - 2ms/step\n",
      "Epoch 3/50\n",
      "154/154 - 0s - loss: 0.0088 - 287ms/epoch - 2ms/step\n",
      "Epoch 4/50\n",
      "154/154 - 0s - loss: 0.0045 - 294ms/epoch - 2ms/step\n",
      "Epoch 5/50\n",
      "154/154 - 0s - loss: 0.0021 - 286ms/epoch - 2ms/step\n",
      "Epoch 6/50\n",
      "154/154 - 0s - loss: 0.0013 - 285ms/epoch - 2ms/step\n",
      "Epoch 7/50\n",
      "154/154 - 0s - loss: 0.0011 - 292ms/epoch - 2ms/step\n",
      "Epoch 8/50\n",
      "154/154 - 0s - loss: 9.8759e-04 - 287ms/epoch - 2ms/step\n",
      "Epoch 9/50\n",
      "154/154 - 0s - loss: 9.4487e-04 - 299ms/epoch - 2ms/step\n",
      "Epoch 10/50\n",
      "154/154 - 0s - loss: 9.0973e-04 - 332ms/epoch - 2ms/step\n",
      "Epoch 11/50\n",
      "154/154 - 0s - loss: 8.8698e-04 - 421ms/epoch - 3ms/step\n",
      "Epoch 12/50\n",
      "154/154 - 0s - loss: 8.7760e-04 - 301ms/epoch - 2ms/step\n",
      "Epoch 13/50\n",
      "154/154 - 0s - loss: 8.6582e-04 - 280ms/epoch - 2ms/step\n",
      "Epoch 14/50\n",
      "154/154 - 0s - loss: 8.7212e-04 - 283ms/epoch - 2ms/step\n",
      "Epoch 15/50\n",
      "154/154 - 0s - loss: 8.5444e-04 - 360ms/epoch - 2ms/step\n",
      "Epoch 16/50\n",
      "154/154 - 0s - loss: 8.4612e-04 - 297ms/epoch - 2ms/step\n",
      "Epoch 17/50\n",
      "154/154 - 0s - loss: 8.3240e-04 - 280ms/epoch - 2ms/step\n",
      "Epoch 18/50\n",
      "154/154 - 0s - loss: 8.3046e-04 - 280ms/epoch - 2ms/step\n",
      "Epoch 19/50\n",
      "154/154 - 0s - loss: 8.2008e-04 - 279ms/epoch - 2ms/step\n",
      "Epoch 20/50\n",
      "154/154 - 0s - loss: 8.1556e-04 - 278ms/epoch - 2ms/step\n",
      "Epoch 21/50\n",
      "154/154 - 0s - loss: 8.1140e-04 - 278ms/epoch - 2ms/step\n",
      "Epoch 22/50\n",
      "154/154 - 0s - loss: 8.1669e-04 - 277ms/epoch - 2ms/step\n",
      "Epoch 23/50\n",
      "154/154 - 0s - loss: 8.0514e-04 - 281ms/epoch - 2ms/step\n",
      "Epoch 24/50\n",
      "154/154 - 0s - loss: 8.0200e-04 - 321ms/epoch - 2ms/step\n",
      "Epoch 25/50\n",
      "154/154 - 0s - loss: 8.0634e-04 - 356ms/epoch - 2ms/step\n",
      "Epoch 26/50\n",
      "154/154 - 0s - loss: 7.9300e-04 - 281ms/epoch - 2ms/step\n",
      "Epoch 27/50\n",
      "154/154 - 0s - loss: 7.9032e-04 - 285ms/epoch - 2ms/step\n",
      "Epoch 28/50\n",
      "154/154 - 0s - loss: 7.9396e-04 - 282ms/epoch - 2ms/step\n",
      "Epoch 29/50\n",
      "154/154 - 0s - loss: 7.8714e-04 - 278ms/epoch - 2ms/step\n",
      "Epoch 30/50\n",
      "154/154 - 0s - loss: 7.7836e-04 - 279ms/epoch - 2ms/step\n",
      "Epoch 31/50\n",
      "154/154 - 0s - loss: 7.8771e-04 - 278ms/epoch - 2ms/step\n",
      "Epoch 32/50\n",
      "154/154 - 0s - loss: 7.7264e-04 - 287ms/epoch - 2ms/step\n",
      "Epoch 33/50\n",
      "154/154 - 0s - loss: 7.6700e-04 - 316ms/epoch - 2ms/step\n",
      "Epoch 34/50\n",
      "154/154 - 0s - loss: 7.6612e-04 - 281ms/epoch - 2ms/step\n",
      "Epoch 35/50\n",
      "154/154 - 0s - loss: 7.6093e-04 - 276ms/epoch - 2ms/step\n",
      "Epoch 36/50\n",
      "154/154 - 0s - loss: 7.6792e-04 - 291ms/epoch - 2ms/step\n",
      "Epoch 37/50\n",
      "154/154 - 0s - loss: 7.6326e-04 - 332ms/epoch - 2ms/step\n",
      "Epoch 38/50\n",
      "154/154 - 0s - loss: 7.5130e-04 - 382ms/epoch - 2ms/step\n",
      "Epoch 39/50\n",
      "154/154 - 0s - loss: 7.5058e-04 - 385ms/epoch - 3ms/step\n",
      "Epoch 40/50\n",
      "154/154 - 0s - loss: 7.4324e-04 - 435ms/epoch - 3ms/step\n",
      "Epoch 41/50\n",
      "154/154 - 0s - loss: 7.5100e-04 - 294ms/epoch - 2ms/step\n",
      "Epoch 42/50\n",
      "154/154 - 0s - loss: 7.3777e-04 - 273ms/epoch - 2ms/step\n",
      "Epoch 43/50\n",
      "154/154 - 0s - loss: 7.3891e-04 - 280ms/epoch - 2ms/step\n",
      "Epoch 44/50\n",
      "154/154 - 0s - loss: 7.3929e-04 - 291ms/epoch - 2ms/step\n",
      "Epoch 45/50\n",
      "154/154 - 0s - loss: 7.4278e-04 - 276ms/epoch - 2ms/step\n",
      "Epoch 46/50\n",
      "154/154 - 0s - loss: 7.2894e-04 - 272ms/epoch - 2ms/step\n",
      "Epoch 47/50\n",
      "154/154 - 0s - loss: 7.3269e-04 - 283ms/epoch - 2ms/step\n",
      "Epoch 48/50\n",
      "154/154 - 0s - loss: 7.2852e-04 - 273ms/epoch - 2ms/step\n",
      "Epoch 49/50\n",
      "154/154 - 0s - loss: 7.3052e-04 - 288ms/epoch - 2ms/step\n",
      "Epoch 50/50\n",
      "154/154 - 0s - loss: 7.3406e-04 - 280ms/epoch - 2ms/step\n"
     ]
    },
    {
     "data": {
      "text/plain": [
       "<keras.callbacks.History at 0x24455ee07c0>"
      ]
     },
     "execution_count": 58,
     "metadata": {},
     "output_type": "execute_result"
    }
   ],
   "source": [
    "#training the model\n",
    "\n",
    "reg.fit(X_train, y_train, epochs = 50, verbose=2)"
   ]
  },
  {
   "attachments": {},
   "cell_type": "markdown",
   "metadata": {},
   "source": [
    "### Prepare test dataset and test LSTM model"
   ]
  },
  {
   "cell_type": "code",
   "execution_count": 59,
   "metadata": {},
   "outputs": [],
   "source": [
    "#testing dataset\n",
    "\n",
    "data_test = np.array(data_test)"
   ]
  },
  {
   "cell_type": "code",
   "execution_count": 60,
   "metadata": {},
   "outputs": [],
   "source": [
    "#here we are splitting the data weekly wise(7days)\n",
    "\n",
    "X_test, y_test = [], []\n",
    "\n",
    "for i in range(7, len(data_test)-7):\n",
    "    X_test.append(data_test[i-7:i])\n",
    "    y_test.append(data_test[i:i+7])"
   ]
  },
  {
   "cell_type": "code",
   "execution_count": 61,
   "metadata": {},
   "outputs": [],
   "source": [
    "X_test, y_test = np.array(X_test), np.array(y_test)"
   ]
  },
  {
   "cell_type": "code",
   "execution_count": 62,
   "metadata": {},
   "outputs": [],
   "source": [
    "X_test = x_scaler.transform(X_test)\n",
    "y_test = y_scaler.transform(y_test)"
   ]
  },
  {
   "cell_type": "code",
   "execution_count": 63,
   "metadata": {},
   "outputs": [
    {
     "data": {
      "text/plain": [
       "(2405, 7)"
      ]
     },
     "execution_count": 63,
     "metadata": {},
     "output_type": "execute_result"
    }
   ],
   "source": [
    "y_test.shape"
   ]
  },
  {
   "cell_type": "code",
   "execution_count": 64,
   "metadata": {},
   "outputs": [
    {
     "data": {
      "text/plain": [
       "(2405, 7)"
      ]
     },
     "execution_count": 64,
     "metadata": {},
     "output_type": "execute_result"
    }
   ],
   "source": [
    "X_test.shape"
   ]
  },
  {
   "cell_type": "code",
   "execution_count": 65,
   "metadata": {},
   "outputs": [],
   "source": [
    "#converting to 3 dimension\n",
    "\n",
    "X_test = X_test.reshape(2405,7,1)"
   ]
  },
  {
   "attachments": {},
   "cell_type": "markdown",
   "metadata": {},
   "source": [
    "### Predicting"
   ]
  }
 ],
 "metadata": {
  "kernelspec": {
   "display_name": "ziondeep",
   "language": "python",
   "name": "python3"
  },
  "language_info": {
   "codemirror_mode": {
    "name": "ipython",
    "version": 3
   },
   "file_extension": ".py",
   "mimetype": "text/x-python",
   "name": "python",
   "nbconvert_exporter": "python",
   "pygments_lexer": "ipython3",
   "version": "3.8.10"
  },
  "orig_nbformat": 4
 },
 "nbformat": 4,
 "nbformat_minor": 2
}
