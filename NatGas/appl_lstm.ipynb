{
 "cells": [
  {
   "attachments": {},
   "cell_type": "markdown",
   "metadata": {},
   "source": [
    "### Import the necessary libraries"
   ]
  },
  {
   "cell_type": "code",
   "execution_count": 1,
   "metadata": {},
   "outputs": [],
   "source": [
    "import numpy as np\n",
    "import pandas as pd\n",
    "pd.options.mode.chained_assignment = None\n",
    "import yfinance as yf\n",
    "import tensorflow as tf\n",
    "from tensorflow.keras.layers import Dense, LSTM\n",
    "from tensorflow.keras.models import Sequential\n",
    "from sklearn.preprocessing import MinMaxScaler\n",
    "import matplotlib.pyplot as plt"
   ]
  },
  {
   "attachments": {},
   "cell_type": "markdown",
   "metadata": {},
   "source": [
    "Set random value"
   ]
  },
  {
   "cell_type": "code",
   "execution_count": 2,
   "metadata": {},
   "outputs": [],
   "source": [
    "ticker = 'AAPL'"
   ]
  },
  {
   "cell_type": "code",
   "execution_count": 3,
   "metadata": {},
   "outputs": [],
   "source": [
    "tf.random.set_seed(0)"
   ]
  },
  {
   "cell_type": "code",
   "execution_count": 4,
   "metadata": {},
   "outputs": [
    {
     "name": "stdout",
     "output_type": "stream",
     "text": [
      "[*********************100%***********************]  1 of 1 completed\n"
     ]
    }
   ],
   "source": [
    "# download the data\n",
    "df = yf.download(tickers= ticker, period='1y')\n",
    "y = df['Close'].fillna(method='ffill')\n",
    "y = y.values.reshape(-1, 1)"
   ]
  },
  {
   "cell_type": "code",
   "execution_count": 5,
   "metadata": {},
   "outputs": [],
   "source": [
    "# scale the data\n",
    "scaler = MinMaxScaler(feature_range=(0, 1))\n",
    "scaler = scaler.fit(y)\n",
    "y = scaler.transform(y)"
   ]
  },
  {
   "cell_type": "code",
   "execution_count": 6,
   "metadata": {},
   "outputs": [],
   "source": [
    "# generate the input and output sequences\n",
    "n_lookback = 120  # length of input sequences (lookback period)\n",
    "n_forecast = 60  # length of output sequences (forecast period)"
   ]
  },
  {
   "cell_type": "code",
   "execution_count": 7,
   "metadata": {},
   "outputs": [],
   "source": [
    "X = []\n",
    "Y = []\n",
    "\n",
    "for i in range(n_lookback, len(y) - n_forecast + 1):\n",
    "    X.append(y[i - n_lookback: i])\n",
    "    Y.append(y[i: i + n_forecast])"
   ]
  },
  {
   "cell_type": "code",
   "execution_count": 8,
   "metadata": {},
   "outputs": [],
   "source": [
    "X = np.array(X)"
   ]
  },
  {
   "cell_type": "code",
   "execution_count": 9,
   "metadata": {},
   "outputs": [],
   "source": [
    "Y = np.array(Y)"
   ]
  },
  {
   "cell_type": "code",
   "execution_count": 10,
   "metadata": {},
   "outputs": [
    {
     "name": "stdout",
     "output_type": "stream",
     "text": [
      "Epoch 1/100\n",
      "3/3 - 3s - loss: 0.1668 - 3s/epoch - 1s/step\n",
      "Epoch 2/100\n",
      "3/3 - 0s - loss: 0.1567 - 184ms/epoch - 61ms/step\n",
      "Epoch 3/100\n",
      "3/3 - 0s - loss: 0.1433 - 159ms/epoch - 53ms/step\n",
      "Epoch 4/100\n",
      "3/3 - 0s - loss: 0.1219 - 139ms/epoch - 46ms/step\n",
      "Epoch 5/100\n",
      "3/3 - 0s - loss: 0.1014 - 163ms/epoch - 54ms/step\n",
      "Epoch 6/100\n",
      "3/3 - 0s - loss: 0.0827 - 175ms/epoch - 58ms/step\n",
      "Epoch 7/100\n",
      "3/3 - 0s - loss: 0.0649 - 138ms/epoch - 46ms/step\n",
      "Epoch 8/100\n",
      "3/3 - 0s - loss: 0.0529 - 134ms/epoch - 45ms/step\n",
      "Epoch 9/100\n",
      "3/3 - 0s - loss: 0.0451 - 153ms/epoch - 51ms/step\n",
      "Epoch 10/100\n",
      "3/3 - 0s - loss: 0.0400 - 143ms/epoch - 48ms/step\n",
      "Epoch 11/100\n",
      "3/3 - 0s - loss: 0.0376 - 140ms/epoch - 47ms/step\n",
      "Epoch 12/100\n",
      "3/3 - 0s - loss: 0.0359 - 168ms/epoch - 56ms/step\n",
      "Epoch 13/100\n",
      "3/3 - 0s - loss: 0.0353 - 134ms/epoch - 45ms/step\n",
      "Epoch 14/100\n",
      "3/3 - 0s - loss: 0.0346 - 134ms/epoch - 45ms/step\n",
      "Epoch 15/100\n",
      "3/3 - 0s - loss: 0.0345 - 132ms/epoch - 44ms/step\n",
      "Epoch 16/100\n",
      "3/3 - 0s - loss: 0.0341 - 137ms/epoch - 46ms/step\n",
      "Epoch 17/100\n",
      "3/3 - 0s - loss: 0.0339 - 140ms/epoch - 47ms/step\n",
      "Epoch 18/100\n",
      "3/3 - 0s - loss: 0.0337 - 179ms/epoch - 60ms/step\n",
      "Epoch 19/100\n",
      "3/3 - 0s - loss: 0.0335 - 141ms/epoch - 47ms/step\n",
      "Epoch 20/100\n",
      "3/3 - 0s - loss: 0.0334 - 138ms/epoch - 46ms/step\n",
      "Epoch 21/100\n",
      "3/3 - 0s - loss: 0.0333 - 145ms/epoch - 48ms/step\n",
      "Epoch 22/100\n",
      "3/3 - 0s - loss: 0.0331 - 142ms/epoch - 47ms/step\n",
      "Epoch 23/100\n",
      "3/3 - 0s - loss: 0.0330 - 136ms/epoch - 45ms/step\n",
      "Epoch 24/100\n",
      "3/3 - 0s - loss: 0.0333 - 156ms/epoch - 52ms/step\n",
      "Epoch 25/100\n",
      "3/3 - 0s - loss: 0.0332 - 193ms/epoch - 64ms/step\n",
      "Epoch 26/100\n",
      "3/3 - 0s - loss: 0.0330 - 231ms/epoch - 77ms/step\n",
      "Epoch 27/100\n",
      "3/3 - 0s - loss: 0.0329 - 174ms/epoch - 58ms/step\n",
      "Epoch 28/100\n",
      "3/3 - 0s - loss: 0.0331 - 180ms/epoch - 60ms/step\n",
      "Epoch 29/100\n",
      "3/3 - 0s - loss: 0.0330 - 157ms/epoch - 52ms/step\n",
      "Epoch 30/100\n",
      "3/3 - 0s - loss: 0.0327 - 179ms/epoch - 60ms/step\n",
      "Epoch 31/100\n",
      "3/3 - 0s - loss: 0.0327 - 177ms/epoch - 59ms/step\n",
      "Epoch 32/100\n",
      "3/3 - 0s - loss: 0.0327 - 147ms/epoch - 49ms/step\n",
      "Epoch 33/100\n",
      "3/3 - 0s - loss: 0.0326 - 144ms/epoch - 48ms/step\n",
      "Epoch 34/100\n",
      "3/3 - 0s - loss: 0.0324 - 147ms/epoch - 49ms/step\n",
      "Epoch 35/100\n",
      "3/3 - 0s - loss: 0.0327 - 152ms/epoch - 51ms/step\n",
      "Epoch 36/100\n",
      "3/3 - 0s - loss: 0.0328 - 145ms/epoch - 48ms/step\n",
      "Epoch 37/100\n",
      "3/3 - 0s - loss: 0.0325 - 144ms/epoch - 48ms/step\n",
      "Epoch 38/100\n",
      "3/3 - 0s - loss: 0.0324 - 157ms/epoch - 52ms/step\n",
      "Epoch 39/100\n",
      "3/3 - 0s - loss: 0.0321 - 209ms/epoch - 70ms/step\n",
      "Epoch 40/100\n",
      "3/3 - 0s - loss: 0.0319 - 150ms/epoch - 50ms/step\n",
      "Epoch 41/100\n",
      "3/3 - 0s - loss: 0.0316 - 140ms/epoch - 47ms/step\n",
      "Epoch 42/100\n",
      "3/3 - 0s - loss: 0.0314 - 166ms/epoch - 55ms/step\n",
      "Epoch 43/100\n",
      "3/3 - 0s - loss: 0.0307 - 180ms/epoch - 60ms/step\n",
      "Epoch 44/100\n",
      "3/3 - 0s - loss: 0.0297 - 177ms/epoch - 59ms/step\n",
      "Epoch 45/100\n",
      "3/3 - 0s - loss: 0.0329 - 145ms/epoch - 48ms/step\n",
      "Epoch 46/100\n",
      "3/3 - 0s - loss: 0.0287 - 154ms/epoch - 51ms/step\n",
      "Epoch 47/100\n",
      "3/3 - 0s - loss: 0.0280 - 140ms/epoch - 47ms/step\n",
      "Epoch 48/100\n",
      "3/3 - 0s - loss: 0.0272 - 138ms/epoch - 46ms/step\n",
      "Epoch 49/100\n",
      "3/3 - 0s - loss: 0.0291 - 138ms/epoch - 46ms/step\n",
      "Epoch 50/100\n",
      "3/3 - 0s - loss: 0.0282 - 140ms/epoch - 47ms/step\n",
      "Epoch 51/100\n",
      "3/3 - 0s - loss: 0.0265 - 137ms/epoch - 46ms/step\n",
      "Epoch 52/100\n",
      "3/3 - 0s - loss: 0.0251 - 140ms/epoch - 47ms/step\n",
      "Epoch 53/100\n",
      "3/3 - 0s - loss: 0.0253 - 153ms/epoch - 51ms/step\n",
      "Epoch 54/100\n",
      "3/3 - 0s - loss: 0.0254 - 155ms/epoch - 52ms/step\n",
      "Epoch 55/100\n",
      "3/3 - 0s - loss: 0.0244 - 136ms/epoch - 45ms/step\n",
      "Epoch 56/100\n",
      "3/3 - 0s - loss: 0.0234 - 139ms/epoch - 46ms/step\n",
      "Epoch 57/100\n",
      "3/3 - 0s - loss: 0.0239 - 139ms/epoch - 46ms/step\n",
      "Epoch 58/100\n",
      "3/3 - 0s - loss: 0.0257 - 136ms/epoch - 45ms/step\n",
      "Epoch 59/100\n",
      "3/3 - 0s - loss: 0.0223 - 139ms/epoch - 46ms/step\n",
      "Epoch 60/100\n",
      "3/3 - 0s - loss: 0.0228 - 141ms/epoch - 47ms/step\n",
      "Epoch 61/100\n",
      "3/3 - 0s - loss: 0.0214 - 146ms/epoch - 49ms/step\n",
      "Epoch 62/100\n",
      "3/3 - 0s - loss: 0.0206 - 146ms/epoch - 49ms/step\n",
      "Epoch 63/100\n",
      "3/3 - 0s - loss: 0.0196 - 140ms/epoch - 47ms/step\n",
      "Epoch 64/100\n",
      "3/3 - 0s - loss: 0.0198 - 139ms/epoch - 46ms/step\n",
      "Epoch 65/100\n",
      "3/3 - 0s - loss: 0.0198 - 136ms/epoch - 45ms/step\n",
      "Epoch 66/100\n",
      "3/3 - 0s - loss: 0.0189 - 139ms/epoch - 46ms/step\n",
      "Epoch 67/100\n",
      "3/3 - 0s - loss: 0.0184 - 138ms/epoch - 46ms/step\n",
      "Epoch 68/100\n",
      "3/3 - 0s - loss: 0.0179 - 140ms/epoch - 47ms/step\n",
      "Epoch 69/100\n",
      "3/3 - 0s - loss: 0.0178 - 152ms/epoch - 51ms/step\n",
      "Epoch 70/100\n",
      "3/3 - 0s - loss: 0.0180 - 163ms/epoch - 54ms/step\n",
      "Epoch 71/100\n",
      "3/3 - 0s - loss: 0.0186 - 147ms/epoch - 49ms/step\n",
      "Epoch 72/100\n",
      "3/3 - 0s - loss: 0.0189 - 163ms/epoch - 54ms/step\n",
      "Epoch 73/100\n",
      "3/3 - 0s - loss: 0.0174 - 170ms/epoch - 57ms/step\n",
      "Epoch 74/100\n",
      "3/3 - 0s - loss: 0.0172 - 172ms/epoch - 57ms/step\n",
      "Epoch 75/100\n",
      "3/3 - 0s - loss: 0.0162 - 169ms/epoch - 56ms/step\n",
      "Epoch 76/100\n",
      "3/3 - 0s - loss: 0.0161 - 169ms/epoch - 56ms/step\n",
      "Epoch 77/100\n",
      "3/3 - 0s - loss: 0.0155 - 173ms/epoch - 58ms/step\n",
      "Epoch 78/100\n",
      "3/3 - 0s - loss: 0.0163 - 172ms/epoch - 57ms/step\n",
      "Epoch 79/100\n",
      "3/3 - 0s - loss: 0.0161 - 171ms/epoch - 57ms/step\n",
      "Epoch 80/100\n",
      "3/3 - 0s - loss: 0.0158 - 256ms/epoch - 85ms/step\n",
      "Epoch 81/100\n",
      "3/3 - 0s - loss: 0.0148 - 177ms/epoch - 59ms/step\n",
      "Epoch 82/100\n",
      "3/3 - 0s - loss: 0.0141 - 200ms/epoch - 67ms/step\n",
      "Epoch 83/100\n",
      "3/3 - 0s - loss: 0.0137 - 177ms/epoch - 59ms/step\n",
      "Epoch 84/100\n",
      "3/3 - 0s - loss: 0.0132 - 259ms/epoch - 86ms/step\n",
      "Epoch 85/100\n",
      "3/3 - 0s - loss: 0.0130 - 182ms/epoch - 61ms/step\n",
      "Epoch 86/100\n",
      "3/3 - 0s - loss: 0.0132 - 175ms/epoch - 58ms/step\n",
      "Epoch 87/100\n",
      "3/3 - 0s - loss: 0.0134 - 267ms/epoch - 89ms/step\n",
      "Epoch 88/100\n",
      "3/3 - 0s - loss: 0.0128 - 256ms/epoch - 85ms/step\n",
      "Epoch 89/100\n",
      "3/3 - 0s - loss: 0.0122 - 249ms/epoch - 83ms/step\n",
      "Epoch 90/100\n",
      "3/3 - 0s - loss: 0.0121 - 261ms/epoch - 87ms/step\n",
      "Epoch 91/100\n",
      "3/3 - 0s - loss: 0.0118 - 267ms/epoch - 89ms/step\n",
      "Epoch 92/100\n",
      "3/3 - 0s - loss: 0.0118 - 226ms/epoch - 75ms/step\n",
      "Epoch 93/100\n",
      "3/3 - 0s - loss: 0.0110 - 227ms/epoch - 76ms/step\n",
      "Epoch 94/100\n",
      "3/3 - 0s - loss: 0.0106 - 198ms/epoch - 66ms/step\n",
      "Epoch 95/100\n",
      "3/3 - 0s - loss: 0.0105 - 177ms/epoch - 59ms/step\n",
      "Epoch 96/100\n",
      "3/3 - 0s - loss: 0.0100 - 173ms/epoch - 58ms/step\n",
      "Epoch 97/100\n",
      "3/3 - 0s - loss: 0.0095 - 173ms/epoch - 58ms/step\n",
      "Epoch 98/100\n",
      "3/3 - 0s - loss: 0.0092 - 170ms/epoch - 57ms/step\n",
      "Epoch 99/100\n",
      "3/3 - 0s - loss: 0.0088 - 211ms/epoch - 70ms/step\n",
      "Epoch 100/100\n",
      "3/3 - 0s - loss: 0.0087 - 238ms/epoch - 79ms/step\n"
     ]
    },
    {
     "data": {
      "text/plain": [
       "<keras.callbacks.History at 0x15192c2e5e0>"
      ]
     },
     "execution_count": 10,
     "metadata": {},
     "output_type": "execute_result"
    }
   ],
   "source": [
    "# fit the model\n",
    "model = Sequential()\n",
    "model.add(LSTM(units=50, return_sequences=True, input_shape=(n_lookback, 1)))\n",
    "model.add(LSTM(units=50))\n",
    "model.add(Dense(n_forecast))\n",
    "\n",
    "model.compile(loss='mean_squared_error', optimizer='adam')\n",
    "model.fit(X, Y, epochs=100, batch_size=32, verbose=2)"
   ]
  },
  {
   "cell_type": "code",
   "execution_count": 11,
   "metadata": {},
   "outputs": [
    {
     "name": "stdout",
     "output_type": "stream",
     "text": [
      "1/1 [==============================] - 1s 851ms/step\n"
     ]
    }
   ],
   "source": [
    "# generate the forecasts\n",
    "X_ = y[- n_lookback:]  # last available input sequence\n",
    "X_ = X_.reshape(1, n_lookback, 1)\n",
    "\n",
    "Y_ = model.predict(X_).reshape(-1, 1)\n",
    "Y_ = scaler.inverse_transform(Y_)"
   ]
  },
  {
   "cell_type": "code",
   "execution_count": 12,
   "metadata": {},
   "outputs": [],
   "source": [
    "# organize the results in a data frame\n",
    "df_past = df[['Close']].reset_index()\n",
    "df_past.rename(columns={'index': 'Date', 'Close': 'Actual'}, inplace=True)\n",
    "df_past['Date'] = pd.to_datetime(df_past['Date'])\n",
    "df_past['Forecast'] = np.nan\n",
    "df_past['Forecast'].iloc[-1] = df_past['Actual'].iloc[-1]\n",
    "\n",
    "df_future = pd.DataFrame(columns=['Date', 'Actual', 'Forecast'])\n",
    "df_future['Date'] = pd.date_range(start=df_past['Date'].iloc[-1] + pd.Timedelta(days=1), periods=n_forecast)\n",
    "df_future['Forecast'] = Y_.flatten()\n",
    "df_future['Actual'] = np.nan"
   ]
  },
  {
   "cell_type": "code",
   "execution_count": 13,
   "metadata": {},
   "outputs": [
    {
     "data": {
      "text/plain": [
       "<Axes: title={'center': 'AAPL'}, xlabel='Date'>"
      ]
     },
     "execution_count": 13,
     "metadata": {},
     "output_type": "execute_result"
    },
    {
     "data": {
      "image/png": "[encoded data removed]",
      "text/plain": [
       "<Figure size 640x480 with 1 Axes>"
      ]
     },
     "metadata": {},
     "output_type": "display_data"
    }
   ],
   "source": [
    "results = pd.concat([df_past, df_future]).set_index(\"Date\")\n",
    "# plot the results\n",
    "plt.style.use('dark_background')\n",
    "results.plot(title=ticker)"
   ]
  }
 ],
 "metadata": {
  "kernelspec": {
   "display_name": "ziondeep",
   "language": "python",
   "name": "python3"
  },
  "language_info": {
   "codemirror_mode": {
    "name": "ipython",
    "version": 3
   },
   "file_extension": ".py",
   "mimetype": "text/x-python",
   "name": "python",
   "nbconvert_exporter": "python",
   "pygments_lexer": "ipython3",
   "version": "3.8.10"
  },
  "orig_nbformat": 4
 },
 "nbformat": 4,
 "nbformat_minor": 2
}
